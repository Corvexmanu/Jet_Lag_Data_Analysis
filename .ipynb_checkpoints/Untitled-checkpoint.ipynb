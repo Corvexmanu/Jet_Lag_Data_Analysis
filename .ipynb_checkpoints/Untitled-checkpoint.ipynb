{
 "cells": [
  {
   "cell_type": "code",
   "execution_count": null,
   "metadata": {},
   "outputs": [],
   "source": [
    "import Wrangling_DataSource as WD\n",
    "\n",
    "def main():\n",
    "    #Defining the global variables \n",
    "    min, max = 1950,1951\n",
    "    teamsDf = {}\n",
    "    teamsPerYear = {}\n",
    "    \n",
    "    #USING THE CLASS WRANGLING DATASOURCE\n",
    "    dataImported = WD.Wrangling_DataSource(min,max)  \n",
    "    \n",
    "    #Creating Dictionary of url and destination\n",
    "    dictUrlsDest = dataImported.createUrlDest()  \n",
    "    \n",
    "    ##Downloading and storing data \n",
    "    for year,url_Des in dictUrlsDest.items():\n",
    "        dataImported.getData(url_WD= url_Des[0],destination_WD= url_Des[1])\n",
    "        folderLength = dataImported.getDirLength(url_Des[1])\n",
    "        print(\"Data from \" + str(year) + \" imported and stored inside of\" + str(url_Des[1]))\n",
    "    \n",
    "    #Pre-Processing file Teams per each year.\n",
    "    for year in dictUrlsDest.keys():    \n",
    "        teamsDf[year] = dataImported.getTeams(year_WD= year) \n",
    "        teamsPerYear[year] = dataImported.getTeamsPerYear(year_WD= year, teamsDf_WD= teamsDf)\n",
    "    \n",
    "    for k,v in teamsPerYear.items():\n",
    "        print(str(k) + \" => \" + str(v))\n",
    "        \n",
    "        \n",
    "    \n",
    "\n",
    "#Executing the main program.\n",
    "if __name__ == \"__main__\": \n",
    "    main()\n",
    "        "
   ]
  }
 ],
 "metadata": {
  "kernelspec": {
   "display_name": "Python 3",
   "language": "python",
   "name": "python3"
  },
  "language_info": {
   "codemirror_mode": {
    "name": "ipython",
    "version": 3
   },
   "file_extension": ".py",
   "mimetype": "text/x-python",
   "name": "python",
   "nbconvert_exporter": "python",
   "pygments_lexer": "ipython3",
   "version": "3.6.5"
  }
 },
 "nbformat": 4,
 "nbformat_minor": 2
}
