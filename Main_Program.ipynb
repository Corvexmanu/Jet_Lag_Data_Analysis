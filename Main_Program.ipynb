{
 "cells": [
  {
   "cell_type": "code",
   "execution_count": 1,
   "metadata": {},
   "outputs": [
    {
     "name": "stdout",
     "output_type": "stream",
     "text": [
      "Extracting teams from .\\Resources\\1980\\TEAM1980\n"
     ]
    },
    {
     "name": "stderr",
     "output_type": "stream",
     "text": [
      "C:\\Users\\corve\\OneDrive - Queensland University of Technology\\MIT\\GitHub_Projects\\Jet_Lag_Data_Analysis\\Wrangling_DataSource.py:54: SettingWithCopyWarning: \n",
      "A value is trying to be set on a copy of a slice from a DataFrame.\n",
      "Try using .loc[row_indexer,col_indexer] = value instead\n",
      "\n",
      "See the caveats in the documentation: http://pandas.pydata.org/pandas-docs/stable/indexing.html#indexing-view-versus-copy\n",
      "  teamsPerYear_WD[\"evxFiles\"] = str(year_WD) + teamsPerYear_WD.loc[:,\"teamID\"] + \".EV\" + teamsPerYear_WD.loc[:,\"league\"]\n"
     ]
    },
    {
     "name": "stdout",
     "output_type": "stream",
     "text": [
      "1980BAL.EVA file in process.\n",
      "1980BOS.EVA file in process.\n",
      "1980CLE.EVA file in process.\n",
      "1980DET.EVA file in process.\n",
      "1980MIL.EVA file in process.\n",
      "1980NYA.EVA file in process.\n",
      "1980TOR.EVA file in process.\n",
      "1980CAL.EVA file in process.\n",
      "1980CHA.EVA file in process.\n",
      "1980KCA.EVA file in process.\n",
      "1980MIN.EVA file in process.\n",
      "1980OAK.EVA file in process.\n",
      "1980SEA.EVA file in process.\n",
      "1980TEX.EVA file in process.\n",
      "1980CHN.EVN file in process.\n",
      "1980MON.EVN file in process.\n",
      "1980NYN.EVN file in process.\n",
      "1980PHI.EVN file in process.\n",
      "1980PIT.EVN file in process.\n",
      "1980SLN.EVN file in process.\n",
      "1980ATL.EVN file in process.\n",
      "1980CIN.EVN file in process.\n",
      "1980HOU.EVN file in process.\n",
      "1980LAN.EVN file in process.\n",
      "1980SDN.EVN file in process.\n",
      "1980SFN.EVN file in process.\n"
     ]
    },
    {
     "name": "stderr",
     "output_type": "stream",
     "text": [
      "C:\\Users\\corve\\OneDrive - Queensland University of Technology\\MIT\\GitHub_Projects\\Jet_Lag_Data_Analysis\\Wrangling_DataSource.py:157: FutureWarning: Sorting because non-concatenation axis is not aligned. A future version\n",
      "of pandas will change to not sort by default.\n",
      "\n",
      "To accept the future behavior, pass 'sort=True'.\n",
      "\n",
      "To retain the current behavior and silence the warning, pass sort=False\n",
      "\n",
      "  yearsData[i] = pd.concat(eventGames_WD[i], axis=0)\n"
     ]
    },
    {
     "name": "stdout",
     "output_type": "stream",
     "text": [
      "Data of timezons in .\\Timezones\\timesZonesDayLight.xlsx extracted\n"
     ]
    }
   ],
   "source": [
    "# -*- coding: utf-8 -*-\n",
    "\"\"\"\n",
    "Created on Sat Mar  2 15:21:31 2019\n",
    "\n",
    "@author: corve\n",
    "\"\"\"\n",
    "\n",
    "import Wrangling_DataSource as WD\n",
    "\n",
    "teamsDf = {}\n",
    "teamsPerYear = {}\n",
    "filesToExtract = {}\n",
    "eventGames = {}\n",
    "\n",
    "def main():\n",
    "    #Defining the global variables \n",
    "    minimum = 1980\n",
    "    maximum = 1981\n",
    "    \n",
    "    #USING THE CLASS WRANGLING DATASOURCE\n",
    "    dataImported = WD.Wrangling_DataSource(minimum,maximum)  \n",
    "    \n",
    "    #Creating Dictionary of url and destination\n",
    "    dictUrlsDest = dataImported.createUrlDest()  \n",
    "    \n",
    "    ##Downloading and storing data \n",
    "    for year,url_Des in dictUrlsDest.items(): dataImported.getData(url_WD= url_Des[0],destination_WD= url_Des[1])\n",
    "    \n",
    "    #Pre-Processing file Teams per each year.\n",
    "    for year in dictUrlsDest.keys(): teamsDf[year] = dataImported.getTeams(year_WD= year)\n",
    "    for year in dictUrlsDest.keys(): teamsPerYear[year] = dataImported.getTeamsPerYear(year_WD= year, teamsDf_WD= teamsDf)\n",
    "    \n",
    "    #Creating Structure of List of list of Files from each season. [[EVA and EVN],[ROS],[EDA and EDN]]\n",
    "    for year in teamsPerYear.keys(): filesToExtract[year] = dataImported.getNameFiles(year_WD= year, teamsPerYear_WD= teamsPerYear[year] )  \n",
    "    \n",
    "    #Extracting EVA and EVN files    \n",
    "    for year in filesToExtract.keys(): eventGames[year] = dataImported.getEvaEvnData(year_WD= year, filesToExtract_WD= filesToExtract[year]) \n",
    "    \n",
    "    #Create The final Dataset\n",
    "    dataEvents = dataImported.getfinalDataset(eventGames_WD= eventGames)\n",
    "    dataTimeZones = dataImported.insertTimeZoneInfo(Data_WD= dataEvents)\n",
    "    dataTimeZones.to_csv('Dataset.csv')    \n",
    "\n",
    "#Executing the main program.\n",
    "#if __name__ == \"__main__\": \n",
    "main()\n"
   ]
  },
  {
   "cell_type": "code",
   "execution_count": null,
   "metadata": {},
   "outputs": [],
   "source": []
  },
  {
   "cell_type": "code",
   "execution_count": null,
   "metadata": {},
   "outputs": [],
   "source": []
  }
 ],
 "metadata": {
  "kernelspec": {
   "display_name": "Python 3",
   "language": "python",
   "name": "python3"
  },
  "language_info": {
   "codemirror_mode": {
    "name": "ipython",
    "version": 3
   },
   "file_extension": ".py",
   "mimetype": "text/x-python",
   "name": "python",
   "nbconvert_exporter": "python",
   "pygments_lexer": "ipython3",
   "version": "3.6.5"
  }
 },
 "nbformat": 4,
 "nbformat_minor": 2
}
